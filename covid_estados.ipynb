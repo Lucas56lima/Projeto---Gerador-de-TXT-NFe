{
 "cells": [
  {
   "cell_type": "code",
   "execution_count": 159,
   "metadata": {},
   "outputs": [],
   "source": [
    "import pandas as pd\n",
    "from selenium import webdriver\n",
    "from selenium.webdriver.common.by import By\n",
    "from selenium.webdriver import ActionChains\n",
    "from selenium.webdriver.common.actions.action_builder import ActionBuilder\n",
    "from selenium.webdriver.common.actions.mouse_button import MouseButton\n"
   ]
  },
  {
   "cell_type": "code",
   "execution_count": 160,
   "metadata": {},
   "outputs": [],
   "source": [
    "navegador = webdriver.Chrome()\n",
    "url = 'https://infoms.saude.gov.br/extensions/covid-19_html/covid-19_html.html'\n",
    "\n",
    "navegador.get(url)"
   ]
  },
  {
   "cell_type": "markdown",
   "metadata": {},
   "source": [
    "Estados"
   ]
  },
  {
   "cell_type": "code",
   "execution_count": 127,
   "metadata": {},
   "outputs": [
    {
     "name": "stdout",
     "output_type": "stream",
     "text": [
      "['Totais', 'ES']\n",
      "['Totais', 'ES', 'RO']\n",
      "['Totais', 'ES', 'RO', 'CE']\n",
      "['Totais', 'ES', 'RO', 'CE', 'AC']\n",
      "['Totais', 'ES', 'RO', 'CE', 'AC', 'PA']\n",
      "['Totais', 'ES', 'RO', 'CE', 'AC', 'PA', 'SE']\n",
      "['Totais', 'ES', 'RO', 'CE', 'AC', 'PA', 'SE', 'RR']\n",
      "['Totais', 'ES', 'RO', 'CE', 'AC', 'PA', 'SE', 'RR', 'AL']\n",
      "['Totais', 'ES', 'RO', 'CE', 'AC', 'PA', 'SE', 'RR', 'AL', 'PB']\n",
      "['Totais', 'ES', 'RO', 'CE', 'AC', 'PA', 'SE', 'RR', 'AL', 'PB', 'AM']\n",
      "['Totais', 'ES', 'RO', 'CE', 'AC', 'PA', 'SE', 'RR', 'AL', 'PB', 'AM', 'MA']\n",
      "['Totais', 'ES', 'RO', 'CE', 'AC', 'PA', 'SE', 'RR', 'AL', 'PB', 'AM', 'MA', 'AP']\n",
      "['Totais', 'ES', 'RO', 'CE', 'AC', 'PA', 'SE', 'RR', 'AL', 'PB', 'AM', 'MA', 'AP', 'MT']\n",
      "['Totais', 'ES', 'RO', 'CE', 'AC', 'PA', 'SE', 'RR', 'AL', 'PB', 'AM', 'MA', 'AP', 'MT', 'PI']\n",
      "['Totais', 'ES', 'RO', 'CE', 'AC', 'PA', 'SE', 'RR', 'AL', 'PB', 'AM', 'MA', 'AP', 'MT', 'PI', 'TO']\n",
      "['Totais', 'ES', 'RO', 'CE', 'AC', 'PA', 'SE', 'RR', 'AL', 'PB', 'AM', 'MA', 'AP', 'MT', 'PI', 'TO', '']\n"
     ]
    }
   ],
   "source": [
    "botao_elements = navegador.find_element(By.ID,'btEstado').click()\n",
    "\n",
    "totais_elements = navegador.find_elements(By.CLASS_NAME,'ng-scope')[178].text\n",
    "\n",
    "estados_elements = navegador.find_elements(By.CLASS_NAME,'ng-scope')[204:490:19]\n",
    "# print(estados_elements)\n",
    "\n",
    "def scroll_mouse(navegador):\n",
    "    element = navegador.find_element(By.CLASS_NAME,'')\n",
    "\n",
    "lista_estados = []\n",
    "lista_estados.append(totais_elements)\n",
    "\n",
    "for estado in estados_elements:\n",
    "    estado = estado.text\n",
    "    lista_estados.append(estado)\n",
    "\n",
    "\n"
   ]
  },
  {
   "cell_type": "markdown",
   "metadata": {},
   "source": [
    "População   "
   ]
  },
  {
   "cell_type": "code",
   "execution_count": null,
   "metadata": {},
   "outputs": [],
   "source": [
    "populacao_elements = navegador.find_elements(By.CLASS_NAME,'ng-scope')[206:496:19]\n",
    "print(populacao_elements)\n",
    "lista_populacao = []\n",
    "\n",
    "for populacao in populacao_elements:\n",
    "    populacao = int(populacao.text.replace('.',''))\n",
    "    lista_populacao.append(populacao)\n",
    "    print(populacao)  "
   ]
  },
  {
   "cell_type": "markdown",
   "metadata": {},
   "source": [
    "Casos Novos "
   ]
  },
  {
   "cell_type": "code",
   "execution_count": null,
   "metadata": {},
   "outputs": [],
   "source": [
    "casos_elements = navegador.find_elements(By.CLASS_NAME,'ng-scope')[208:498:19]\n",
    "# print(estados_elements)\n",
    "lista_casos_novos = []\n",
    "\n",
    "for casos_novos in casos_elements:\n",
    "    casos_novos = int(casos_novos.text.replace('.',''))\n",
    "    lista_casos_novos.append(casos_novos)  \n",
    "    # print(casos_novos)"
   ]
  },
  {
   "cell_type": "markdown",
   "metadata": {},
   "source": [
    "Casos Acumulados    "
   ]
  },
  {
   "cell_type": "code",
   "execution_count": null,
   "metadata": {},
   "outputs": [],
   "source": [
    "casos_acum_elements = navegador.find_elements(By.CLASS_NAME,'ng-scope')[210:500:19]\n",
    "# print(estados_elements)\n",
    "lista_casos_acum = []\n",
    "\n",
    "for casos_acum in casos_acum_elements:\n",
    "    casos_acum = int(casos_acum.text.replace('.',''))\n",
    "    lista_casos_acum.append(casos_acum)\n",
    "     "
   ]
  },
  {
   "cell_type": "markdown",
   "metadata": {},
   "source": [
    "Incidência covid-19 (100 mil hab)"
   ]
  },
  {
   "cell_type": "code",
   "execution_count": null,
   "metadata": {},
   "outputs": [],
   "source": [
    "covid_hab_elements = navegador.find_elements(By.CLASS_NAME,'ng-scope')[212:502:19]\n",
    "# print(estados_elements)\n",
    "lista_covid_hab = []\n",
    "\n",
    "for covid_hab in covid_hab_elements:\n",
    "    covid_hab = float(covid_hab.text.replace('.','').replace(',','.'))\n",
    "    lista_covid_hab.append(covid_hab)  \n",
    "    "
   ]
  },
  {
   "cell_type": "markdown",
   "metadata": {},
   "source": [
    "Óbitos Novos"
   ]
  },
  {
   "cell_type": "code",
   "execution_count": null,
   "metadata": {},
   "outputs": [],
   "source": [
    "obitos_novos_elements = navegador.find_elements(By.CLASS_NAME,'ng-scope')[214:504:19]\n",
    "# print(estados_elements)\n",
    "lista_obitos_novos = []\n",
    "\n",
    "for obitos_novos in obitos_novos_elements:\n",
    "    obitos_novos = int(obitos_novos.text.replace('.',''))\n",
    "    lista_estados.append(estado)\n",
    "    "
   ]
  },
  {
   "cell_type": "markdown",
   "metadata": {},
   "source": [
    "Óbitos Acumulados"
   ]
  },
  {
   "cell_type": "code",
   "execution_count": null,
   "metadata": {},
   "outputs": [],
   "source": [
    "obitos_acum_elements = navegador.find_elements(By.CLASS_NAME,'ng-scope')[216:506:19]\n",
    "# print(estados_elements)\n",
    "lista_obitos_acum = []\n",
    "\n",
    "for obitos_acum in obitos_acum_elements:\n",
    "    obitos_acum = int(obitos_acum.text.replace('.',''))\n",
    "    lista_estados.append(estado)\n",
    "      "
   ]
  },
  {
   "cell_type": "markdown",
   "metadata": {},
   "source": [
    "Taxa de mortalidade (100 mil hab)"
   ]
  },
  {
   "cell_type": "code",
   "execution_count": 165,
   "metadata": {},
   "outputs": [
    {
     "ename": "ValueError",
     "evalue": "could not convert string to float: ''",
     "output_type": "error",
     "traceback": [
      "\u001b[1;31m---------------------------------------------------------------------------\u001b[0m",
      "\u001b[1;31mValueError\u001b[0m                                Traceback (most recent call last)",
      "\u001b[1;32mc:\\Users\\Usuário\\Desktop\\bot\\covid_estados.ipynb Cell 18\u001b[0m line \u001b[0;36m6\n\u001b[0;32m      <a href='vscode-notebook-cell:/c%3A/Users/Usu%C3%A1rio/Desktop/bot/covid_estados.ipynb#X23sZmlsZQ%3D%3D?line=2'>3</a>\u001b[0m lista_taxa \u001b[39m=\u001b[39m []\n\u001b[0;32m      <a href='vscode-notebook-cell:/c%3A/Users/Usu%C3%A1rio/Desktop/bot/covid_estados.ipynb#X23sZmlsZQ%3D%3D?line=4'>5</a>\u001b[0m \u001b[39mfor\u001b[39;00m taxa \u001b[39min\u001b[39;00m taxa_elements:\n\u001b[1;32m----> <a href='vscode-notebook-cell:/c%3A/Users/Usu%C3%A1rio/Desktop/bot/covid_estados.ipynb#X23sZmlsZQ%3D%3D?line=5'>6</a>\u001b[0m     taxa \u001b[39m=\u001b[39m \u001b[39mfloat\u001b[39;49m(taxa\u001b[39m.\u001b[39;49mtext\u001b[39m.\u001b[39;49mreplace(\u001b[39m'\u001b[39;49m\u001b[39m.\u001b[39;49m\u001b[39m'\u001b[39;49m,\u001b[39m'\u001b[39;49m\u001b[39m'\u001b[39;49m)\u001b[39m.\u001b[39;49mreplace(\u001b[39m'\u001b[39;49m\u001b[39m,\u001b[39;49m\u001b[39m'\u001b[39;49m,\u001b[39m'\u001b[39;49m\u001b[39m.\u001b[39;49m\u001b[39m'\u001b[39;49m))\n\u001b[0;32m      <a href='vscode-notebook-cell:/c%3A/Users/Usu%C3%A1rio/Desktop/bot/covid_estados.ipynb#X23sZmlsZQ%3D%3D?line=6'>7</a>\u001b[0m     lista_taxa\u001b[39m.\u001b[39mappend(taxa)  \n",
      "\u001b[1;31mValueError\u001b[0m: could not convert string to float: ''"
     ]
    }
   ],
   "source": [
    "taxa_elements = navegador.find_elements(By.CLASS_NAME,'ng-scope')[218:508:19]\n",
    "# print(estados_elements)\n",
    "lista_taxa = []\n",
    "\n",
    "for taxa in taxa_elements:\n",
    "    taxa = float(taxa.text.replace('.','').replace(',','.'))\n",
    "    lista_taxa.append(taxa)  "
   ]
  },
  {
   "cell_type": "markdown",
   "metadata": {},
   "source": [
    "DataFrame Por Estados"
   ]
  },
  {
   "cell_type": "code",
   "execution_count": 175,
   "metadata": {},
   "outputs": [],
   "source": [
    "element = navegador.find_elements(By.CLASS_NAME,'ng-scope')[210]\n",
    "\n",
    "ActionChains(navegador)\\\n",
    "    .move_to_element(element)\\\n",
    "    .move_to_element_with_offset(element,0,-26)\\\n",
    "    .perform()\n",
    "\n"
   ]
  },
  {
   "cell_type": "code",
   "execution_count": null,
   "metadata": {},
   "outputs": [],
   "source": [
    "dados = {\"UF\":lista_estados,\"População\":lista_populacao,\"Casos Novos - Semana\":lista_casos_novos,\n",
    "           \"Casos Acumulados\":lista_casos_acum,\"Incidência Covid-19 (100 mil hab)\":lista_covid_hab,\n",
    "           \"Óbitos Novos  - Semana\":lista_obitos_novos,\"Óbitos Acumulados\":lista_obitos_acum,\"Taxa Mortalidade (100 mil hab)\":lista_taxa\n",
    "           }\n",
    "\n",
    "valores_df = pd.DataFrame(dados)\n"
   ]
  },
  {
   "cell_type": "code",
   "execution_count": null,
   "metadata": {},
   "outputs": [],
   "source": [
    "display(dados_covid)"
   ]
  },
  {
   "cell_type": "code",
   "execution_count": null,
   "metadata": {},
   "outputs": [],
   "source": [
    "dados_covid.to_excel('C:/Users/Usuário/Desktop/covid_brasil_estados.xlsx',index=False)"
   ]
  }
 ],
 "metadata": {
  "kernelspec": {
   "display_name": "Python 3",
   "language": "python",
   "name": "python3"
  },
  "language_info": {
   "codemirror_mode": {
    "name": "ipython",
    "version": 3
   },
   "file_extension": ".py",
   "mimetype": "text/x-python",
   "name": "python",
   "nbconvert_exporter": "python",
   "pygments_lexer": "ipython3",
   "version": "3.11.7"
  }
 },
 "nbformat": 4,
 "nbformat_minor": 2
}
