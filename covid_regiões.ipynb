{
 "cells": [
  {
   "cell_type": "code",
   "execution_count": 13,
   "metadata": {},
   "outputs": [],
   "source": [
    "import pandas as pd\n",
    "from selenium import webdriver\n",
    "from selenium.webdriver.common.by import By"
   ]
  },
  {
   "cell_type": "code",
   "execution_count": 15,
   "metadata": {},
   "outputs": [
    {
     "ename": "WebDriverException",
     "evalue": "Message: unknown error: net::ERR_CONNECTION_RESET\n  (Session info: chrome=119.0.6045.124)\nStacktrace:\n\tGetHandleVerifier [0x00007FF73C7882B2+55298]\n\t(No symbol) [0x00007FF73C6F5E02]\n\t(No symbol) [0x00007FF73C5B05AB]\n\t(No symbol) [0x00007FF73C5AC353]\n\t(No symbol) [0x00007FF73C59F4CC]\n\t(No symbol) [0x00007FF73C5A0714]\n\t(No symbol) [0x00007FF73C59F8DF]\n\t(No symbol) [0x00007FF73C59E803]\n\t(No symbol) [0x00007FF73C59E7A8]\n\t(No symbol) [0x00007FF73C59CF0E]\n\t(No symbol) [0x00007FF73C59D803]\n\t(No symbol) [0x00007FF73C5B29BF]\n\t(No symbol) [0x00007FF73C62AE27]\n\t(No symbol) [0x00007FF73C6120AA]\n\t(No symbol) [0x00007FF73C62AAA4]\n\t(No symbol) [0x00007FF73C611E83]\n\t(No symbol) [0x00007FF73C5E670A]\n\t(No symbol) [0x00007FF73C5E7964]\n\tGetHandleVerifier [0x00007FF73CB00AAB+3694587]\n\tGetHandleVerifier [0x00007FF73CB5728E+4048862]\n\tGetHandleVerifier [0x00007FF73CB4F173+4015811]\n\tGetHandleVerifier [0x00007FF73C8247D6+695590]\n\t(No symbol) [0x00007FF73C700CE8]\n\t(No symbol) [0x00007FF73C6FCF34]\n\t(No symbol) [0x00007FF73C6FD062]\n\t(No symbol) [0x00007FF73C6ED3A3]\n\tBaseThreadInitThunk [0x00007FF98F3D7344+20]\n\tRtlUserThreadStart [0x00007FF990F426B1+33]\n",
     "output_type": "error",
     "traceback": [
      "\u001b[1;31m---------------------------------------------------------------------------\u001b[0m",
      "\u001b[1;31mWebDriverException\u001b[0m                        Traceback (most recent call last)",
      "\u001b[1;32mc:\\Users\\Usuário\\Desktop\\bot\\covid_regiões.ipynb Cell 2\u001b[0m line \u001b[0;36m4\n\u001b[0;32m      <a href='vscode-notebook-cell:/c%3A/Users/Usu%C3%A1rio/Desktop/bot/covid_regi%C3%B5es.ipynb#W1sZmlsZQ%3D%3D?line=0'>1</a>\u001b[0m navegador \u001b[39m=\u001b[39m webdriver\u001b[39m.\u001b[39mChrome()\n\u001b[0;32m      <a href='vscode-notebook-cell:/c%3A/Users/Usu%C3%A1rio/Desktop/bot/covid_regi%C3%B5es.ipynb#W1sZmlsZQ%3D%3D?line=1'>2</a>\u001b[0m url \u001b[39m=\u001b[39m \u001b[39m'\u001b[39m\u001b[39mhttps://infoms.saude.gov.br/extensions/covid-19_html/covid-19_html.html\u001b[39m\u001b[39m'\u001b[39m\n\u001b[1;32m----> <a href='vscode-notebook-cell:/c%3A/Users/Usu%C3%A1rio/Desktop/bot/covid_regi%C3%B5es.ipynb#W1sZmlsZQ%3D%3D?line=3'>4</a>\u001b[0m navegador\u001b[39m.\u001b[39;49mget(url)\n",
      "File \u001b[1;32m~\\AppData\\Local\\Packages\\PythonSoftwareFoundation.Python.3.11_qbz5n2kfra8p0\\LocalCache\\local-packages\\Python311\\site-packages\\selenium\\webdriver\\remote\\webdriver.py:353\u001b[0m, in \u001b[0;36mWebDriver.get\u001b[1;34m(self, url)\u001b[0m\n\u001b[0;32m    351\u001b[0m \u001b[39mdef\u001b[39;00m \u001b[39mget\u001b[39m(\u001b[39mself\u001b[39m, url: \u001b[39mstr\u001b[39m) \u001b[39m-\u001b[39m\u001b[39m>\u001b[39m \u001b[39mNone\u001b[39;00m:\n\u001b[0;32m    352\u001b[0m \u001b[39m    \u001b[39m\u001b[39m\"\"\"Loads a web page in the current browser session.\"\"\"\u001b[39;00m\n\u001b[1;32m--> 353\u001b[0m     \u001b[39mself\u001b[39;49m\u001b[39m.\u001b[39;49mexecute(Command\u001b[39m.\u001b[39;49mGET, {\u001b[39m\"\u001b[39;49m\u001b[39murl\u001b[39;49m\u001b[39m\"\u001b[39;49m: url})\n",
      "File \u001b[1;32m~\\AppData\\Local\\Packages\\PythonSoftwareFoundation.Python.3.11_qbz5n2kfra8p0\\LocalCache\\local-packages\\Python311\\site-packages\\selenium\\webdriver\\remote\\webdriver.py:344\u001b[0m, in \u001b[0;36mWebDriver.execute\u001b[1;34m(self, driver_command, params)\u001b[0m\n\u001b[0;32m    342\u001b[0m response \u001b[39m=\u001b[39m \u001b[39mself\u001b[39m\u001b[39m.\u001b[39mcommand_executor\u001b[39m.\u001b[39mexecute(driver_command, params)\n\u001b[0;32m    343\u001b[0m \u001b[39mif\u001b[39;00m response:\n\u001b[1;32m--> 344\u001b[0m     \u001b[39mself\u001b[39;49m\u001b[39m.\u001b[39;49merror_handler\u001b[39m.\u001b[39;49mcheck_response(response)\n\u001b[0;32m    345\u001b[0m     response[\u001b[39m\"\u001b[39m\u001b[39mvalue\u001b[39m\u001b[39m\"\u001b[39m] \u001b[39m=\u001b[39m \u001b[39mself\u001b[39m\u001b[39m.\u001b[39m_unwrap_value(response\u001b[39m.\u001b[39mget(\u001b[39m\"\u001b[39m\u001b[39mvalue\u001b[39m\u001b[39m\"\u001b[39m, \u001b[39mNone\u001b[39;00m))\n\u001b[0;32m    346\u001b[0m     \u001b[39mreturn\u001b[39;00m response\n",
      "File \u001b[1;32m~\\AppData\\Local\\Packages\\PythonSoftwareFoundation.Python.3.11_qbz5n2kfra8p0\\LocalCache\\local-packages\\Python311\\site-packages\\selenium\\webdriver\\remote\\errorhandler.py:229\u001b[0m, in \u001b[0;36mErrorHandler.check_response\u001b[1;34m(self, response)\u001b[0m\n\u001b[0;32m    227\u001b[0m         alert_text \u001b[39m=\u001b[39m value[\u001b[39m\"\u001b[39m\u001b[39malert\u001b[39m\u001b[39m\"\u001b[39m]\u001b[39m.\u001b[39mget(\u001b[39m\"\u001b[39m\u001b[39mtext\u001b[39m\u001b[39m\"\u001b[39m)\n\u001b[0;32m    228\u001b[0m     \u001b[39mraise\u001b[39;00m exception_class(message, screen, stacktrace, alert_text)  \u001b[39m# type: ignore[call-arg]  # mypy is not smart enough here\u001b[39;00m\n\u001b[1;32m--> 229\u001b[0m \u001b[39mraise\u001b[39;00m exception_class(message, screen, stacktrace)\n",
      "\u001b[1;31mWebDriverException\u001b[0m: Message: unknown error: net::ERR_CONNECTION_RESET\n  (Session info: chrome=119.0.6045.124)\nStacktrace:\n\tGetHandleVerifier [0x00007FF73C7882B2+55298]\n\t(No symbol) [0x00007FF73C6F5E02]\n\t(No symbol) [0x00007FF73C5B05AB]\n\t(No symbol) [0x00007FF73C5AC353]\n\t(No symbol) [0x00007FF73C59F4CC]\n\t(No symbol) [0x00007FF73C5A0714]\n\t(No symbol) [0x00007FF73C59F8DF]\n\t(No symbol) [0x00007FF73C59E803]\n\t(No symbol) [0x00007FF73C59E7A8]\n\t(No symbol) [0x00007FF73C59CF0E]\n\t(No symbol) [0x00007FF73C59D803]\n\t(No symbol) [0x00007FF73C5B29BF]\n\t(No symbol) [0x00007FF73C62AE27]\n\t(No symbol) [0x00007FF73C6120AA]\n\t(No symbol) [0x00007FF73C62AAA4]\n\t(No symbol) [0x00007FF73C611E83]\n\t(No symbol) [0x00007FF73C5E670A]\n\t(No symbol) [0x00007FF73C5E7964]\n\tGetHandleVerifier [0x00007FF73CB00AAB+3694587]\n\tGetHandleVerifier [0x00007FF73CB5728E+4048862]\n\tGetHandleVerifier [0x00007FF73CB4F173+4015811]\n\tGetHandleVerifier [0x00007FF73C8247D6+695590]\n\t(No symbol) [0x00007FF73C700CE8]\n\t(No symbol) [0x00007FF73C6FCF34]\n\t(No symbol) [0x00007FF73C6FD062]\n\t(No symbol) [0x00007FF73C6ED3A3]\n\tBaseThreadInitThunk [0x00007FF98F3D7344+20]\n\tRtlUserThreadStart [0x00007FF990F426B1+33]\n"
     ]
    }
   ],
   "source": [
    "navegador = webdriver.Chrome()\n",
    "url = 'https://infoms.saude.gov.br/extensions/covid-19_html/covid-19_html.html'\n",
    "\n",
    "navegador.get(url)"
   ]
  },
  {
   "cell_type": "markdown",
   "metadata": {},
   "source": [
    "Regiões"
   ]
  },
  {
   "cell_type": "code",
   "execution_count": 3,
   "metadata": {},
   "outputs": [],
   "source": [
    "regioes_elements = navegador.find_elements(By.CLASS_NAME,'ng-binding')[41:86:9]\n",
    "\n",
    "lista_regioes = []\n",
    "\n",
    "for regiao in regioes_elements:\n",
    "    regiao = regiao.text\n",
    "    lista_regioes.append(regiao)\n",
    "    "
   ]
  },
  {
   "cell_type": "markdown",
   "metadata": {},
   "source": [
    "População"
   ]
  },
  {
   "cell_type": "code",
   "execution_count": 4,
   "metadata": {},
   "outputs": [],
   "source": [
    "populacao_elements = navegador.find_elements(By.CLASS_NAME,'ng-binding')[42:87:9]\n",
    "lista_populacao = []\n",
    "for populacao in populacao_elements:\n",
    "    populacao = int(populacao.text.replace(\".\",''))    \n",
    "    lista_populacao.append(populacao)"
   ]
  },
  {
   "cell_type": "markdown",
   "metadata": {},
   "source": [
    "Casos Novos"
   ]
  },
  {
   "cell_type": "code",
   "execution_count": 5,
   "metadata": {},
   "outputs": [],
   "source": [
    "novos_casos_elements = navegador.find_elements(By.CLASS_NAME,'ng-binding')[43:88:9]\n",
    "lista_novos_casos = []\n",
    "for novos_casos in novos_casos_elements:\n",
    "    novos_casos = int(novos_casos.text.replace(\".\",''))\n",
    "    lista_novos_casos.append(novos_casos)"
   ]
  },
  {
   "cell_type": "markdown",
   "metadata": {},
   "source": [
    "Casos Acumulados"
   ]
  },
  {
   "cell_type": "code",
   "execution_count": 6,
   "metadata": {},
   "outputs": [],
   "source": [
    "acum_casos_elements = navegador.find_elements(By.CLASS_NAME,'ng-binding')[44:89:9]\n",
    "lista_acum_casos = []\n",
    "for acum_casos in acum_casos_elements:\n",
    "    acum_casos = int(acum_casos.text.replace(\".\",''))\n",
    "    lista_acum_casos.append(acum_casos)"
   ]
  },
  {
   "cell_type": "markdown",
   "metadata": {},
   "source": [
    "Incidência Covid 19 (100 mil hab)"
   ]
  },
  {
   "cell_type": "code",
   "execution_count": 7,
   "metadata": {},
   "outputs": [],
   "source": [
    "inc_covid_elements = navegador.find_elements(By.CLASS_NAME,'ng-binding')[45:90:9]\n",
    "lista_inc_covid = []\n",
    "for inc_covid in inc_covid_elements:\n",
    "    inc_covid = float(inc_covid.text.replace(\".\",'').replace(\",\",\".\"))\n",
    "    lista_inc_covid.append(inc_covid)"
   ]
  },
  {
   "cell_type": "markdown",
   "metadata": {},
   "source": [
    "Óbitos novos notificados na semana"
   ]
  },
  {
   "cell_type": "code",
   "execution_count": 8,
   "metadata": {},
   "outputs": [],
   "source": [
    "novos_obitos_elements = navegador.find_elements(By.CLASS_NAME,'ng-binding')[46:90:9]\n",
    "lista_novos_obitos = []\n",
    "for novos_obitos in novos_casos_elements:\n",
    "    novos_obitos = int(novos_obitos.text.replace(\".\",''))\n",
    "    lista_novos_obitos.append(novos_obitos)"
   ]
  },
  {
   "cell_type": "markdown",
   "metadata": {},
   "source": [
    "Óbitos Acumulados"
   ]
  },
  {
   "cell_type": "code",
   "execution_count": 9,
   "metadata": {},
   "outputs": [],
   "source": [
    "acum_obitos_elements = navegador.find_elements(By.CLASS_NAME,'ng-binding')[47:91:9]\n",
    "lista_acum_obitos = []\n",
    "for acum_obitos in acum_obitos_elements:\n",
    "    acum_obitos = int(acum_obitos.text.replace(\".\",''))\n",
    "    lista_acum_obitos.append(acum_obitos)"
   ]
  },
  {
   "cell_type": "markdown",
   "metadata": {},
   "source": [
    "Taxa de mortalidade (100 mil hab)"
   ]
  },
  {
   "cell_type": "code",
   "execution_count": 10,
   "metadata": {},
   "outputs": [],
   "source": [
    "taxa_mort_elements = navegador.find_elements(By.CLASS_NAME,'ng-binding')[48:92:9]\n",
    "lista_taxa = []\n",
    "for taxa_mort in taxa_mort_elements:\n",
    "    taxa_mort = float(taxa_mort.text.replace(\".\",'').replace(\",\",\".\"))\n",
    "    lista_taxa.append(taxa_mort)"
   ]
  },
  {
   "cell_type": "markdown",
   "metadata": {},
   "source": [
    "DataFrame - Regiões"
   ]
  },
  {
   "cell_type": "code",
   "execution_count": 11,
   "metadata": {},
   "outputs": [],
   "source": [
    "data = {\"Região\":lista_regioes,\"População\":lista_populacao,\"Casos Novos - Semana\":lista_novos_casos,\n",
    "        \"Casos Acumulados\":lista_acum_casos,\"Incidência Covid (100 mil hab)\":lista_inc_covid,\n",
    "        \"Óbitos Novos - Semana\":lista_novos_obitos,\"Óbitos Acumulados\":lista_acum_obitos,\"Taxa de Mortalidade (100 mil hab)\":lista_taxa\n",
    "        }\n",
    "\n",
    "df = pd.DataFrame(data)\n"
   ]
  },
  {
   "cell_type": "code",
   "execution_count": 12,
   "metadata": {},
   "outputs": [
    {
     "data": {
      "text/html": [
       "<div>\n",
       "<style scoped>\n",
       "    .dataframe tbody tr th:only-of-type {\n",
       "        vertical-align: middle;\n",
       "    }\n",
       "\n",
       "    .dataframe tbody tr th {\n",
       "        vertical-align: top;\n",
       "    }\n",
       "\n",
       "    .dataframe thead th {\n",
       "        text-align: right;\n",
       "    }\n",
       "</style>\n",
       "<table border=\"1\" class=\"dataframe\">\n",
       "  <thead>\n",
       "    <tr style=\"text-align: right;\">\n",
       "      <th></th>\n",
       "      <th>Região</th>\n",
       "      <th>População</th>\n",
       "      <th>Casos Novos - Semana</th>\n",
       "      <th>Casos Acumulados</th>\n",
       "      <th>Incidência Covid (100 mil hab)</th>\n",
       "      <th>Óbitos Novos - Semana</th>\n",
       "      <th>Óbitos Acumulados</th>\n",
       "      <th>Taxa de Mortalidade (100 mil hab)</th>\n",
       "    </tr>\n",
       "  </thead>\n",
       "  <tbody>\n",
       "  </tbody>\n",
       "</table>\n",
       "</div>"
      ],
      "text/plain": [
       "Empty DataFrame\n",
       "Columns: [Região, População, Casos Novos - Semana, Casos Acumulados, Incidência Covid (100 mil hab), Óbitos Novos - Semana, Óbitos Acumulados, Taxa de Mortalidade (100 mil hab)]\n",
       "Index: []"
      ]
     },
     "metadata": {},
     "output_type": "display_data"
    }
   ],
   "source": [
    "display(df)\n",
    "\n",
    "\n"
   ]
  },
  {
   "cell_type": "code",
   "execution_count": 13,
   "metadata": {},
   "outputs": [],
   "source": [
    "df.to_excel('C:/Users/Usuário/Desktop/covid_brasil_regiões.xlsx',index=False)\n",
    "\n"
   ]
  }
 ],
 "metadata": {
  "kernelspec": {
   "display_name": "Python 3",
   "language": "python",
   "name": "python3"
  },
  "language_info": {
   "codemirror_mode": {
    "name": "ipython",
    "version": 3
   },
   "file_extension": ".py",
   "mimetype": "text/x-python",
   "name": "python",
   "nbconvert_exporter": "python",
   "pygments_lexer": "ipython3",
   "version": "3.11.8"
  }
 },
 "nbformat": 4,
 "nbformat_minor": 2
}
